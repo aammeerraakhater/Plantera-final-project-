{
 "cells": [
  {
   "cell_type": "code",
   "execution_count": 509,
   "id": "e3183e93",
   "metadata": {},
   "outputs": [],
   "source": [
    "import numpy as np\n",
    "import pandas as pd\n",
    "import seaborn as sns\n",
    "import matplotlib.pyplot as plt\n"
   ]
  },
  {
   "cell_type": "code",
   "execution_count": 510,
   "id": "2f0f9914",
   "metadata": {
    "scrolled": true
   },
   "outputs": [
    {
     "data": {
      "text/html": [
       "<div>\n",
       "<style scoped>\n",
       "    .dataframe tbody tr th:only-of-type {\n",
       "        vertical-align: middle;\n",
       "    }\n",
       "\n",
       "    .dataframe tbody tr th {\n",
       "        vertical-align: top;\n",
       "    }\n",
       "\n",
       "    .dataframe thead th {\n",
       "        text-align: right;\n",
       "    }\n",
       "</style>\n",
       "<table border=\"1\" class=\"dataframe\">\n",
       "  <thead>\n",
       "    <tr style=\"text-align: right;\">\n",
       "      <th></th>\n",
       "      <th>Unnamed: 0</th>\n",
       "      <th>Area</th>\n",
       "      <th>Item</th>\n",
       "      <th>Year</th>\n",
       "      <th>hg/ha_yield</th>\n",
       "      <th>average_rain_fall_mm_per_year</th>\n",
       "      <th>pesticides_tonnes</th>\n",
       "      <th>avg_temp</th>\n",
       "    </tr>\n",
       "  </thead>\n",
       "  <tbody>\n",
       "    <tr>\n",
       "      <th>0</th>\n",
       "      <td>0</td>\n",
       "      <td>Albania</td>\n",
       "      <td>Maize</td>\n",
       "      <td>1990</td>\n",
       "      <td>36613</td>\n",
       "      <td>1485.0</td>\n",
       "      <td>121.0</td>\n",
       "      <td>16.37</td>\n",
       "    </tr>\n",
       "    <tr>\n",
       "      <th>1</th>\n",
       "      <td>1</td>\n",
       "      <td>Albania</td>\n",
       "      <td>Potatoes</td>\n",
       "      <td>1990</td>\n",
       "      <td>66667</td>\n",
       "      <td>1485.0</td>\n",
       "      <td>121.0</td>\n",
       "      <td>16.37</td>\n",
       "    </tr>\n",
       "    <tr>\n",
       "      <th>2</th>\n",
       "      <td>2</td>\n",
       "      <td>Albania</td>\n",
       "      <td>Rice, paddy</td>\n",
       "      <td>1990</td>\n",
       "      <td>23333</td>\n",
       "      <td>1485.0</td>\n",
       "      <td>121.0</td>\n",
       "      <td>16.37</td>\n",
       "    </tr>\n",
       "    <tr>\n",
       "      <th>3</th>\n",
       "      <td>3</td>\n",
       "      <td>Albania</td>\n",
       "      <td>Sorghum</td>\n",
       "      <td>1990</td>\n",
       "      <td>12500</td>\n",
       "      <td>1485.0</td>\n",
       "      <td>121.0</td>\n",
       "      <td>16.37</td>\n",
       "    </tr>\n",
       "    <tr>\n",
       "      <th>4</th>\n",
       "      <td>4</td>\n",
       "      <td>Albania</td>\n",
       "      <td>Soybeans</td>\n",
       "      <td>1990</td>\n",
       "      <td>7000</td>\n",
       "      <td>1485.0</td>\n",
       "      <td>121.0</td>\n",
       "      <td>16.37</td>\n",
       "    </tr>\n",
       "  </tbody>\n",
       "</table>\n",
       "</div>"
      ],
      "text/plain": [
       "   Unnamed: 0     Area         Item  Year  hg/ha_yield  \\\n",
       "0           0  Albania        Maize  1990        36613   \n",
       "1           1  Albania     Potatoes  1990        66667   \n",
       "2           2  Albania  Rice, paddy  1990        23333   \n",
       "3           3  Albania      Sorghum  1990        12500   \n",
       "4           4  Albania     Soybeans  1990         7000   \n",
       "\n",
       "   average_rain_fall_mm_per_year  pesticides_tonnes  avg_temp  \n",
       "0                         1485.0              121.0     16.37  \n",
       "1                         1485.0              121.0     16.37  \n",
       "2                         1485.0              121.0     16.37  \n",
       "3                         1485.0              121.0     16.37  \n",
       "4                         1485.0              121.0     16.37  "
      ]
     },
     "execution_count": 510,
     "metadata": {},
     "output_type": "execute_result"
    }
   ],
   "source": [
    "data = pd.read_csv('yield_df.csv')\n",
    "data.head()"
   ]
  },
  {
   "cell_type": "code",
   "execution_count": 511,
   "id": "6d547386",
   "metadata": {
    "scrolled": true
   },
   "outputs": [
    {
     "data": {
      "text/plain": [
       "Index(['Unnamed: 0', 'Area', 'Item', 'Year', 'hg/ha_yield',\n",
       "       'average_rain_fall_mm_per_year', 'pesticides_tonnes', 'avg_temp'],\n",
       "      dtype='object')"
      ]
     },
     "execution_count": 511,
     "metadata": {},
     "output_type": "execute_result"
    }
   ],
   "source": [
    "data.columns\n"
   ]
  },
  {
   "cell_type": "code",
   "execution_count": 512,
   "id": "7e2ebf73",
   "metadata": {
    "scrolled": false
   },
   "outputs": [
    {
     "data": {
      "text/plain": [
       "Index(['Unnamed: 0', 'Area', 'Item', 'Year', 'hg/ha_yield',\n",
       "       'average_rain_fall_mm_per_year', 'pesticides_tonnes', 'avg_temp',\n",
       "       'target_yield_hg/ha'],\n",
       "      dtype='object')"
      ]
     },
     "execution_count": 512,
     "metadata": {},
     "output_type": "execute_result"
    }
   ],
   "source": [
    "# duplicated yield column in a new column\n",
    "data['target_yield_hg/ha'] = data['hg/ha_yield']\n",
    "data.columns"
   ]
  },
  {
   "cell_type": "code",
   "execution_count": 513,
   "id": "f94d2697",
   "metadata": {
    "scrolled": false
   },
   "outputs": [
    {
     "name": "stdout",
     "output_type": "stream",
     "text": [
      "<class 'pandas.core.frame.DataFrame'>\n",
      "RangeIndex: 28242 entries, 0 to 28241\n",
      "Data columns (total 9 columns):\n",
      " #   Column                         Non-Null Count  Dtype  \n",
      "---  ------                         --------------  -----  \n",
      " 0   Unnamed: 0                     28242 non-null  int64  \n",
      " 1   Area                           28242 non-null  object \n",
      " 2   Item                           28242 non-null  object \n",
      " 3   Year                           28242 non-null  int64  \n",
      " 4   hg/ha_yield                    28242 non-null  int64  \n",
      " 5   average_rain_fall_mm_per_year  28242 non-null  float64\n",
      " 6   pesticides_tonnes              28242 non-null  float64\n",
      " 7   avg_temp                       28242 non-null  float64\n",
      " 8   target_yield_hg/ha             28242 non-null  int64  \n",
      "dtypes: float64(3), int64(4), object(2)\n",
      "memory usage: 1.9+ MB\n"
     ]
    }
   ],
   "source": [
    "data.info()"
   ]
  },
  {
   "cell_type": "code",
   "execution_count": 514,
   "id": "6235535a",
   "metadata": {
    "scrolled": false
   },
   "outputs": [
    {
     "data": {
      "text/plain": [
       "Index(['Area', 'Item', 'Year', 'average_rain_fall_mm_per_year',\n",
       "       'pesticides_tonnes', 'avg_temp', 'target_yield_hg/ha'],\n",
       "      dtype='object')"
      ]
     },
     "execution_count": 514,
     "metadata": {},
     "output_type": "execute_result"
    }
   ],
   "source": [
    "data.drop(['Unnamed: 0','hg/ha_yield'],axis=1,inplace=True)\n",
    "data.columns"
   ]
  },
  {
   "cell_type": "code",
   "execution_count": 515,
   "id": "a94efeb3",
   "metadata": {
    "scrolled": false
   },
   "outputs": [
    {
     "data": {
      "text/html": [
       "<div>\n",
       "<style scoped>\n",
       "    .dataframe tbody tr th:only-of-type {\n",
       "        vertical-align: middle;\n",
       "    }\n",
       "\n",
       "    .dataframe tbody tr th {\n",
       "        vertical-align: top;\n",
       "    }\n",
       "\n",
       "    .dataframe thead th {\n",
       "        text-align: right;\n",
       "    }\n",
       "</style>\n",
       "<table border=\"1\" class=\"dataframe\">\n",
       "  <thead>\n",
       "    <tr style=\"text-align: right;\">\n",
       "      <th></th>\n",
       "      <th>Area</th>\n",
       "      <th>Item</th>\n",
       "      <th>Year</th>\n",
       "      <th>average_rain_fall_mm_per_year</th>\n",
       "      <th>pesticides_tonnes</th>\n",
       "      <th>avg_temp</th>\n",
       "      <th>target_yield_hg/ha</th>\n",
       "    </tr>\n",
       "  </thead>\n",
       "  <tbody>\n",
       "    <tr>\n",
       "      <th>0</th>\n",
       "      <td>Albania</td>\n",
       "      <td>Maize</td>\n",
       "      <td>1990</td>\n",
       "      <td>1485.0</td>\n",
       "      <td>121.0</td>\n",
       "      <td>16.37</td>\n",
       "      <td>36613</td>\n",
       "    </tr>\n",
       "    <tr>\n",
       "      <th>1</th>\n",
       "      <td>Albania</td>\n",
       "      <td>Potatoes</td>\n",
       "      <td>1990</td>\n",
       "      <td>1485.0</td>\n",
       "      <td>121.0</td>\n",
       "      <td>16.37</td>\n",
       "      <td>66667</td>\n",
       "    </tr>\n",
       "    <tr>\n",
       "      <th>2</th>\n",
       "      <td>Albania</td>\n",
       "      <td>Rice, paddy</td>\n",
       "      <td>1990</td>\n",
       "      <td>1485.0</td>\n",
       "      <td>121.0</td>\n",
       "      <td>16.37</td>\n",
       "      <td>23333</td>\n",
       "    </tr>\n",
       "    <tr>\n",
       "      <th>3</th>\n",
       "      <td>Albania</td>\n",
       "      <td>Sorghum</td>\n",
       "      <td>1990</td>\n",
       "      <td>1485.0</td>\n",
       "      <td>121.0</td>\n",
       "      <td>16.37</td>\n",
       "      <td>12500</td>\n",
       "    </tr>\n",
       "    <tr>\n",
       "      <th>4</th>\n",
       "      <td>Albania</td>\n",
       "      <td>Soybeans</td>\n",
       "      <td>1990</td>\n",
       "      <td>1485.0</td>\n",
       "      <td>121.0</td>\n",
       "      <td>16.37</td>\n",
       "      <td>7000</td>\n",
       "    </tr>\n",
       "  </tbody>\n",
       "</table>\n",
       "</div>"
      ],
      "text/plain": [
       "      Area         Item  Year  average_rain_fall_mm_per_year  \\\n",
       "0  Albania        Maize  1990                         1485.0   \n",
       "1  Albania     Potatoes  1990                         1485.0   \n",
       "2  Albania  Rice, paddy  1990                         1485.0   \n",
       "3  Albania      Sorghum  1990                         1485.0   \n",
       "4  Albania     Soybeans  1990                         1485.0   \n",
       "\n",
       "   pesticides_tonnes  avg_temp  target_yield_hg/ha  \n",
       "0              121.0     16.37               36613  \n",
       "1              121.0     16.37               66667  \n",
       "2              121.0     16.37               23333  \n",
       "3              121.0     16.37               12500  \n",
       "4              121.0     16.37                7000  "
      ]
     },
     "execution_count": 515,
     "metadata": {},
     "output_type": "execute_result"
    }
   ],
   "source": [
    "data.head()"
   ]
  },
  {
   "cell_type": "code",
   "execution_count": 516,
   "id": "35fe4d53",
   "metadata": {
    "scrolled": true
   },
   "outputs": [
    {
     "data": {
      "text/html": [
       "<div>\n",
       "<style scoped>\n",
       "    .dataframe tbody tr th:only-of-type {\n",
       "        vertical-align: middle;\n",
       "    }\n",
       "\n",
       "    .dataframe tbody tr th {\n",
       "        vertical-align: top;\n",
       "    }\n",
       "\n",
       "    .dataframe thead th {\n",
       "        text-align: right;\n",
       "    }\n",
       "</style>\n",
       "<table border=\"1\" class=\"dataframe\">\n",
       "  <thead>\n",
       "    <tr style=\"text-align: right;\">\n",
       "      <th></th>\n",
       "      <th>Area</th>\n",
       "      <th>Item</th>\n",
       "      <th>Year</th>\n",
       "      <th>average_rain_fall_mm_per_year</th>\n",
       "      <th>pesticides_tonnes</th>\n",
       "      <th>avg_temp</th>\n",
       "      <th>target_yield_hg/ha</th>\n",
       "    </tr>\n",
       "  </thead>\n",
       "  <tbody>\n",
       "    <tr>\n",
       "      <th>23949</th>\n",
       "      <td>Rwanda</td>\n",
       "      <td>Wheat</td>\n",
       "      <td>1990</td>\n",
       "      <td>1212.0</td>\n",
       "      <td>157.00</td>\n",
       "      <td>19.39</td>\n",
       "      <td>11811</td>\n",
       "    </tr>\n",
       "    <tr>\n",
       "      <th>9446</th>\n",
       "      <td>Greece</td>\n",
       "      <td>Soybeans</td>\n",
       "      <td>2009</td>\n",
       "      <td>652.0</td>\n",
       "      <td>3404.40</td>\n",
       "      <td>18.52</td>\n",
       "      <td>19920</td>\n",
       "    </tr>\n",
       "    <tr>\n",
       "      <th>21714</th>\n",
       "      <td>Pakistan</td>\n",
       "      <td>Potatoes</td>\n",
       "      <td>1990</td>\n",
       "      <td>494.0</td>\n",
       "      <td>5299.00</td>\n",
       "      <td>23.14</td>\n",
       "      <td>104002</td>\n",
       "    </tr>\n",
       "    <tr>\n",
       "      <th>21824</th>\n",
       "      <td>Pakistan</td>\n",
       "      <td>Wheat</td>\n",
       "      <td>1991</td>\n",
       "      <td>494.0</td>\n",
       "      <td>5962.00</td>\n",
       "      <td>24.38</td>\n",
       "      <td>18410</td>\n",
       "    </tr>\n",
       "    <tr>\n",
       "      <th>17101</th>\n",
       "      <td>Japan</td>\n",
       "      <td>Yams</td>\n",
       "      <td>2012</td>\n",
       "      <td>1668.0</td>\n",
       "      <td>54716.40</td>\n",
       "      <td>15.53</td>\n",
       "      <td>222059</td>\n",
       "    </tr>\n",
       "    <tr>\n",
       "      <th>8581</th>\n",
       "      <td>El Salvador</td>\n",
       "      <td>Rice, paddy</td>\n",
       "      <td>2013</td>\n",
       "      <td>1784.0</td>\n",
       "      <td>6005.08</td>\n",
       "      <td>26.36</td>\n",
       "      <td>61615</td>\n",
       "    </tr>\n",
       "    <tr>\n",
       "      <th>14445</th>\n",
       "      <td>India</td>\n",
       "      <td>Rice, paddy</td>\n",
       "      <td>2013</td>\n",
       "      <td>1083.0</td>\n",
       "      <td>45620.00</td>\n",
       "      <td>26.37</td>\n",
       "      <td>36070</td>\n",
       "    </tr>\n",
       "    <tr>\n",
       "      <th>28126</th>\n",
       "      <td>Zimbabwe</td>\n",
       "      <td>Sorghum</td>\n",
       "      <td>1998</td>\n",
       "      <td>657.0</td>\n",
       "      <td>2883.00</td>\n",
       "      <td>21.30</td>\n",
       "      <td>3106</td>\n",
       "    </tr>\n",
       "    <tr>\n",
       "      <th>15835</th>\n",
       "      <td>Italy</td>\n",
       "      <td>Soybeans</td>\n",
       "      <td>1999</td>\n",
       "      <td>832.0</td>\n",
       "      <td>81583.00</td>\n",
       "      <td>12.95</td>\n",
       "      <td>35329</td>\n",
       "    </tr>\n",
       "    <tr>\n",
       "      <th>17745</th>\n",
       "      <td>Lebanon</td>\n",
       "      <td>Maize</td>\n",
       "      <td>2009</td>\n",
       "      <td>661.0</td>\n",
       "      <td>1816.00</td>\n",
       "      <td>20.19</td>\n",
       "      <td>36210</td>\n",
       "    </tr>\n",
       "  </tbody>\n",
       "</table>\n",
       "</div>"
      ],
      "text/plain": [
       "              Area         Item  Year  average_rain_fall_mm_per_year  \\\n",
       "23949       Rwanda        Wheat  1990                         1212.0   \n",
       "9446        Greece     Soybeans  2009                          652.0   \n",
       "21714     Pakistan     Potatoes  1990                          494.0   \n",
       "21824     Pakistan        Wheat  1991                          494.0   \n",
       "17101        Japan         Yams  2012                         1668.0   \n",
       "8581   El Salvador  Rice, paddy  2013                         1784.0   \n",
       "14445        India  Rice, paddy  2013                         1083.0   \n",
       "28126     Zimbabwe      Sorghum  1998                          657.0   \n",
       "15835        Italy     Soybeans  1999                          832.0   \n",
       "17745      Lebanon        Maize  2009                          661.0   \n",
       "\n",
       "       pesticides_tonnes  avg_temp  target_yield_hg/ha  \n",
       "23949             157.00     19.39               11811  \n",
       "9446             3404.40     18.52               19920  \n",
       "21714            5299.00     23.14              104002  \n",
       "21824            5962.00     24.38               18410  \n",
       "17101           54716.40     15.53              222059  \n",
       "8581             6005.08     26.36               61615  \n",
       "14445           45620.00     26.37               36070  \n",
       "28126            2883.00     21.30                3106  \n",
       "15835           81583.00     12.95               35329  \n",
       "17745            1816.00     20.19               36210  "
      ]
     },
     "execution_count": 516,
     "metadata": {},
     "output_type": "execute_result"
    }
   ],
   "source": [
    "data.sample(10)"
   ]
  },
  {
   "cell_type": "code",
   "execution_count": 517,
   "id": "f6fd6c86",
   "metadata": {
    "scrolled": true
   },
   "outputs": [
    {
     "name": "stdout",
     "output_type": "stream",
     "text": [
      "<class 'pandas.core.frame.DataFrame'>\n",
      "RangeIndex: 28242 entries, 0 to 28241\n",
      "Data columns (total 7 columns):\n",
      " #   Column                         Non-Null Count  Dtype  \n",
      "---  ------                         --------------  -----  \n",
      " 0   Area                           28242 non-null  object \n",
      " 1   Item                           28242 non-null  object \n",
      " 2   Year                           28242 non-null  int64  \n",
      " 3   average_rain_fall_mm_per_year  28242 non-null  float64\n",
      " 4   pesticides_tonnes              28242 non-null  float64\n",
      " 5   avg_temp                       28242 non-null  float64\n",
      " 6   target_yield_hg/ha             28242 non-null  int64  \n",
      "dtypes: float64(3), int64(2), object(2)\n",
      "memory usage: 1.5+ MB\n"
     ]
    }
   ],
   "source": [
    "data.info()"
   ]
  },
  {
   "cell_type": "code",
   "execution_count": 518,
   "id": "7df52ce5",
   "metadata": {
    "scrolled": false
   },
   "outputs": [
    {
     "data": {
      "text/plain": [
       "array(['Albania', 'Algeria', 'Angola', 'Argentina', 'Armenia',\n",
       "       'Australia', 'Austria', 'Azerbaijan', 'Bahamas', 'Bahrain',\n",
       "       'Bangladesh', 'Belarus', 'Belgium', 'Botswana', 'Brazil',\n",
       "       'Bulgaria', 'Burkina Faso', 'Burundi', 'Cameroon', 'Canada',\n",
       "       'Central African Republic', 'Chile', 'Colombia', 'Croatia',\n",
       "       'Denmark', 'Dominican Republic', 'Ecuador', 'Egypt', 'El Salvador',\n",
       "       'Eritrea', 'Estonia', 'Finland', 'France', 'Germany', 'Ghana',\n",
       "       'Greece', 'Guatemala', 'Guinea', 'Guyana', 'Haiti', 'Honduras',\n",
       "       'Hungary', 'India', 'Indonesia', 'Iraq', 'Ireland', 'Italy',\n",
       "       'Jamaica', 'Japan', 'Kazakhstan', 'Kenya', 'Latvia', 'Lebanon',\n",
       "       'Lesotho', 'Libya', 'Lithuania', 'Madagascar', 'Malawi',\n",
       "       'Malaysia', 'Mali', 'Mauritania', 'Mauritius', 'Mexico',\n",
       "       'Montenegro', 'Morocco', 'Mozambique', 'Namibia', 'Nepal',\n",
       "       'Netherlands', 'New Zealand', 'Nicaragua', 'Niger', 'Norway',\n",
       "       'Pakistan', 'Papua New Guinea', 'Peru', 'Poland', 'Portugal',\n",
       "       'Qatar', 'Romania', 'Rwanda', 'Saudi Arabia', 'Senegal',\n",
       "       'Slovenia', 'South Africa', 'Spain', 'Sri Lanka', 'Sudan',\n",
       "       'Suriname', 'Sweden', 'Switzerland', 'Tajikistan', 'Thailand',\n",
       "       'Tunisia', 'Turkey', 'Uganda', 'Ukraine', 'United Kingdom',\n",
       "       'Uruguay', 'Zambia', 'Zimbabwe'], dtype=object)"
      ]
     },
     "execution_count": 518,
     "metadata": {},
     "output_type": "execute_result"
    }
   ],
   "source": [
    "data['Area'].unique()\n"
   ]
  },
  {
   "cell_type": "code",
   "execution_count": 519,
   "id": "ff64b1b2",
   "metadata": {
    "scrolled": true
   },
   "outputs": [
    {
     "data": {
      "text/html": [
       "<div>\n",
       "<style scoped>\n",
       "    .dataframe tbody tr th:only-of-type {\n",
       "        vertical-align: middle;\n",
       "    }\n",
       "\n",
       "    .dataframe tbody tr th {\n",
       "        vertical-align: top;\n",
       "    }\n",
       "\n",
       "    .dataframe thead th {\n",
       "        text-align: right;\n",
       "    }\n",
       "</style>\n",
       "<table border=\"1\" class=\"dataframe\">\n",
       "  <thead>\n",
       "    <tr style=\"text-align: right;\">\n",
       "      <th></th>\n",
       "      <th>Area</th>\n",
       "      <th>Item</th>\n",
       "      <th>Year</th>\n",
       "      <th>average_rain_fall_mm_per_year</th>\n",
       "      <th>pesticides_tonnes</th>\n",
       "      <th>avg_temp</th>\n",
       "      <th>target_yield_hg/ha</th>\n",
       "    </tr>\n",
       "  </thead>\n",
       "  <tbody>\n",
       "    <tr>\n",
       "      <th>2083</th>\n",
       "      <td>Bangladesh</td>\n",
       "      <td>Maize</td>\n",
       "      <td>1990</td>\n",
       "      <td>2666.0</td>\n",
       "      <td>1266.00</td>\n",
       "      <td>25.98</td>\n",
       "      <td>10015</td>\n",
       "    </tr>\n",
       "    <tr>\n",
       "      <th>2085</th>\n",
       "      <td>Bangladesh</td>\n",
       "      <td>Potatoes</td>\n",
       "      <td>1990</td>\n",
       "      <td>2666.0</td>\n",
       "      <td>1266.00</td>\n",
       "      <td>25.98</td>\n",
       "      <td>91410</td>\n",
       "    </tr>\n",
       "    <tr>\n",
       "      <th>2087</th>\n",
       "      <td>Bangladesh</td>\n",
       "      <td>Rice, paddy</td>\n",
       "      <td>1990</td>\n",
       "      <td>2666.0</td>\n",
       "      <td>1266.00</td>\n",
       "      <td>25.98</td>\n",
       "      <td>25661</td>\n",
       "    </tr>\n",
       "    <tr>\n",
       "      <th>2089</th>\n",
       "      <td>Bangladesh</td>\n",
       "      <td>Sorghum</td>\n",
       "      <td>1990</td>\n",
       "      <td>2666.0</td>\n",
       "      <td>1266.00</td>\n",
       "      <td>25.98</td>\n",
       "      <td>8103</td>\n",
       "    </tr>\n",
       "    <tr>\n",
       "      <th>2091</th>\n",
       "      <td>Bangladesh</td>\n",
       "      <td>Sweet potatoes</td>\n",
       "      <td>1990</td>\n",
       "      <td>2666.0</td>\n",
       "      <td>1266.00</td>\n",
       "      <td>25.98</td>\n",
       "      <td>98316</td>\n",
       "    </tr>\n",
       "    <tr>\n",
       "      <th>...</th>\n",
       "      <td>...</td>\n",
       "      <td>...</td>\n",
       "      <td>...</td>\n",
       "      <td>...</td>\n",
       "      <td>...</td>\n",
       "      <td>...</td>\n",
       "      <td>...</td>\n",
       "    </tr>\n",
       "    <tr>\n",
       "      <th>27690</th>\n",
       "      <td>United Kingdom</td>\n",
       "      <td>Wheat</td>\n",
       "      <td>2011</td>\n",
       "      <td>1220.0</td>\n",
       "      <td>16401.66</td>\n",
       "      <td>10.63</td>\n",
       "      <td>77471</td>\n",
       "    </tr>\n",
       "    <tr>\n",
       "      <th>27695</th>\n",
       "      <td>United Kingdom</td>\n",
       "      <td>Potatoes</td>\n",
       "      <td>2012</td>\n",
       "      <td>1220.0</td>\n",
       "      <td>17718.64</td>\n",
       "      <td>9.55</td>\n",
       "      <td>305570</td>\n",
       "    </tr>\n",
       "    <tr>\n",
       "      <th>27700</th>\n",
       "      <td>United Kingdom</td>\n",
       "      <td>Wheat</td>\n",
       "      <td>2012</td>\n",
       "      <td>1220.0</td>\n",
       "      <td>17718.64</td>\n",
       "      <td>9.55</td>\n",
       "      <td>66571</td>\n",
       "    </tr>\n",
       "    <tr>\n",
       "      <th>27705</th>\n",
       "      <td>United Kingdom</td>\n",
       "      <td>Potatoes</td>\n",
       "      <td>2013</td>\n",
       "      <td>1220.0</td>\n",
       "      <td>17673.46</td>\n",
       "      <td>9.57</td>\n",
       "      <td>408993</td>\n",
       "    </tr>\n",
       "    <tr>\n",
       "      <th>27710</th>\n",
       "      <td>United Kingdom</td>\n",
       "      <td>Wheat</td>\n",
       "      <td>2013</td>\n",
       "      <td>1220.0</td>\n",
       "      <td>17673.46</td>\n",
       "      <td>9.57</td>\n",
       "      <td>73838</td>\n",
       "    </tr>\n",
       "  </tbody>\n",
       "</table>\n",
       "<p>2310 rows × 7 columns</p>\n",
       "</div>"
      ],
      "text/plain": [
       "                 Area            Item  Year  average_rain_fall_mm_per_year  \\\n",
       "2083       Bangladesh           Maize  1990                         2666.0   \n",
       "2085       Bangladesh        Potatoes  1990                         2666.0   \n",
       "2087       Bangladesh     Rice, paddy  1990                         2666.0   \n",
       "2089       Bangladesh         Sorghum  1990                         2666.0   \n",
       "2091       Bangladesh  Sweet potatoes  1990                         2666.0   \n",
       "...               ...             ...   ...                            ...   \n",
       "27690  United Kingdom           Wheat  2011                         1220.0   \n",
       "27695  United Kingdom        Potatoes  2012                         1220.0   \n",
       "27700  United Kingdom           Wheat  2012                         1220.0   \n",
       "27705  United Kingdom        Potatoes  2013                         1220.0   \n",
       "27710  United Kingdom           Wheat  2013                         1220.0   \n",
       "\n",
       "       pesticides_tonnes  avg_temp  target_yield_hg/ha  \n",
       "2083             1266.00     25.98               10015  \n",
       "2085             1266.00     25.98               91410  \n",
       "2087             1266.00     25.98               25661  \n",
       "2089             1266.00     25.98                8103  \n",
       "2091             1266.00     25.98               98316  \n",
       "...                  ...       ...                 ...  \n",
       "27690           16401.66     10.63               77471  \n",
       "27695           17718.64      9.55              305570  \n",
       "27700           17718.64      9.55               66571  \n",
       "27705           17673.46      9.57              408993  \n",
       "27710           17673.46      9.57               73838  \n",
       "\n",
       "[2310 rows x 7 columns]"
      ]
     },
     "execution_count": 519,
     "metadata": {},
     "output_type": "execute_result"
    }
   ],
   "source": [
    "data[data.duplicated()]\n"
   ]
  },
  {
   "cell_type": "code",
   "execution_count": 520,
   "id": "729969af",
   "metadata": {},
   "outputs": [],
   "source": [
    "\n",
    "data = data.drop_duplicates()"
   ]
  },
  {
   "cell_type": "code",
   "execution_count": 521,
   "id": "9998588e",
   "metadata": {
    "scrolled": false
   },
   "outputs": [
    {
     "data": {
      "text/plain": [
       "array(['Maize', 'Potatoes', 'Rice, paddy', 'Sorghum', 'Soybeans', 'Wheat',\n",
       "       'Cassava', 'Sweet potatoes', 'Plantains and others', 'Yams'],\n",
       "      dtype=object)"
      ]
     },
     "execution_count": 521,
     "metadata": {},
     "output_type": "execute_result"
    }
   ],
   "source": [
    "data['Item'].unique()"
   ]
  },
  {
   "cell_type": "code",
   "execution_count": 522,
   "id": "608c1b1a",
   "metadata": {
    "scrolled": true
   },
   "outputs": [
    {
     "data": {
      "text/plain": [
       "101"
      ]
     },
     "execution_count": 522,
     "metadata": {},
     "output_type": "execute_result"
    }
   ],
   "source": [
    "len(data['Area'].unique())\n"
   ]
  },
  {
   "cell_type": "code",
   "execution_count": 523,
   "id": "39253a71",
   "metadata": {
    "scrolled": false
   },
   "outputs": [
    {
     "data": {
      "text/plain": [
       "<AxesSubplot:xlabel='count', ylabel='Area'>"
      ]
     },
     "execution_count": 523,
     "metadata": {},
     "output_type": "execute_result"
    },
    {
     "data": {
      "image/png": "[encoded data removed]",
      "text/plain": [
       "<Figure size 1500x2000 with 1 Axes>"
      ]
     },
     "metadata": {},
     "output_type": "display_data"
    }
   ],
   "source": [
    "plt.figure(figsize=(15,20))\n",
    "sns.countplot(y=data['Area'])\n"
   ]
  },
  {
   "cell_type": "code",
   "execution_count": 524,
   "id": "464e0ad2",
   "metadata": {
    "scrolled": true
   },
   "outputs": [
    {
     "data": {
      "text/plain": [
       "<AxesSubplot:xlabel='count', ylabel='Item'>"
      ]
     },
     "execution_count": 524,
     "metadata": {},
     "output_type": "execute_result"
    },
    {
     "data": {
      "image/png": "[encoded data removed]",
      "text/plain": [
       "<Figure size 640x480 with 1 Axes>"
      ]
     },
     "metadata": {},
     "output_type": "display_data"
    }
   ],
   "source": [
    "# Graph frequency of itmes\n",
    "sns.countplot(y=data['Item'])\n"
   ]
  },
  {
   "cell_type": "code",
   "execution_count": 525,
   "id": "e463cb5d",
   "metadata": {},
   "outputs": [
    {
     "data": {
      "text/plain": [
       "<AxesSubplot:>"
      ]
     },
     "execution_count": 525,
     "metadata": {},
     "output_type": "execute_result"
    },
    {
     "data": {
      "image/png": "[encoded data removed]",
      "text/plain": [
       "<Figure size 640x480 with 1 Axes>"
      ]
     },
     "metadata": {},
     "output_type": "display_data"
    }
   ],
   "source": [
    "# Graph Yield vs Items\n",
    "yield_per_crop = []\n",
    "crops=data['Item'].unique()\n",
    "for crop in crops:\n",
    "    yield_per_crop.append(data[data['Item']==crop]['target_yield_hg/ha'].sum())\n",
    "sns.barplot(y=crops,x=yield_per_crop)\n"
   ]
  },
  {
   "cell_type": "code",
   "execution_count": 526,
   "id": "83a8f613",
   "metadata": {},
   "outputs": [],
   "source": [
    "# put countries names in a dictionary \n",
    "def creat_dic(df,columnName):\n",
    "    areaDic ={}\n",
    "    key = 0\n",
    "    for i in df[columnName].unique():\n",
    "        areaDic[key]=i\n",
    "        key+=1\n",
    "    return areaDic\n",
    "    \n",
    "area_dict = creat_dic(data,\"Area\")\n"
   ]
  },
  {
   "cell_type": "code",
   "execution_count": 527,
   "id": "dd1037a9",
   "metadata": {
    "scrolled": false
   },
   "outputs": [
    {
     "data": {
      "text/plain": [
       "{0: 'Albania',\n",
       " 1: 'Algeria',\n",
       " 2: 'Angola',\n",
       " 3: 'Argentina',\n",
       " 4: 'Armenia',\n",
       " 5: 'Australia',\n",
       " 6: 'Austria',\n",
       " 7: 'Azerbaijan',\n",
       " 8: 'Bahamas',\n",
       " 9: 'Bahrain',\n",
       " 10: 'Bangladesh',\n",
       " 11: 'Belarus',\n",
       " 12: 'Belgium',\n",
       " 13: 'Botswana',\n",
       " 14: 'Brazil',\n",
       " 15: 'Bulgaria',\n",
       " 16: 'Burkina Faso',\n",
       " 17: 'Burundi',\n",
       " 18: 'Cameroon',\n",
       " 19: 'Canada',\n",
       " 20: 'Central African Republic',\n",
       " 21: 'Chile',\n",
       " 22: 'Colombia',\n",
       " 23: 'Croatia',\n",
       " 24: 'Denmark',\n",
       " 25: 'Dominican Republic',\n",
       " 26: 'Ecuador',\n",
       " 27: 'Egypt',\n",
       " 28: 'El Salvador',\n",
       " 29: 'Eritrea',\n",
       " 30: 'Estonia',\n",
       " 31: 'Finland',\n",
       " 32: 'France',\n",
       " 33: 'Germany',\n",
       " 34: 'Ghana',\n",
       " 35: 'Greece',\n",
       " 36: 'Guatemala',\n",
       " 37: 'Guinea',\n",
       " 38: 'Guyana',\n",
       " 39: 'Haiti',\n",
       " 40: 'Honduras',\n",
       " 41: 'Hungary',\n",
       " 42: 'India',\n",
       " 43: 'Indonesia',\n",
       " 44: 'Iraq',\n",
       " 45: 'Ireland',\n",
       " 46: 'Italy',\n",
       " 47: 'Jamaica',\n",
       " 48: 'Japan',\n",
       " 49: 'Kazakhstan',\n",
       " 50: 'Kenya',\n",
       " 51: 'Latvia',\n",
       " 52: 'Lebanon',\n",
       " 53: 'Lesotho',\n",
       " 54: 'Libya',\n",
       " 55: 'Lithuania',\n",
       " 56: 'Madagascar',\n",
       " 57: 'Malawi',\n",
       " 58: 'Malaysia',\n",
       " 59: 'Mali',\n",
       " 60: 'Mauritania',\n",
       " 61: 'Mauritius',\n",
       " 62: 'Mexico',\n",
       " 63: 'Montenegro',\n",
       " 64: 'Morocco',\n",
       " 65: 'Mozambique',\n",
       " 66: 'Namibia',\n",
       " 67: 'Nepal',\n",
       " 68: 'Netherlands',\n",
       " 69: 'New Zealand',\n",
       " 70: 'Nicaragua',\n",
       " 71: 'Niger',\n",
       " 72: 'Norway',\n",
       " 73: 'Pakistan',\n",
       " 74: 'Papua New Guinea',\n",
       " 75: 'Peru',\n",
       " 76: 'Poland',\n",
       " 77: 'Portugal',\n",
       " 78: 'Qatar',\n",
       " 79: 'Romania',\n",
       " 80: 'Rwanda',\n",
       " 81: 'Saudi Arabia',\n",
       " 82: 'Senegal',\n",
       " 83: 'Slovenia',\n",
       " 84: 'South Africa',\n",
       " 85: 'Spain',\n",
       " 86: 'Sri Lanka',\n",
       " 87: 'Sudan',\n",
       " 88: 'Suriname',\n",
       " 89: 'Sweden',\n",
       " 90: 'Switzerland',\n",
       " 91: 'Tajikistan',\n",
       " 92: 'Thailand',\n",
       " 93: 'Tunisia',\n",
       " 94: 'Turkey',\n",
       " 95: 'Uganda',\n",
       " 96: 'Ukraine',\n",
       " 97: 'United Kingdom',\n",
       " 98: 'Uruguay',\n",
       " 99: 'Zambia',\n",
       " 100: 'Zimbabwe'}"
      ]
     },
     "execution_count": 527,
     "metadata": {},
     "output_type": "execute_result"
    }
   ],
   "source": [
    "area_dict\n"
   ]
  },
  {
   "cell_type": "code",
   "execution_count": 528,
   "id": "4e941066",
   "metadata": {
    "scrolled": true
   },
   "outputs": [
    {
     "data": {
      "text/plain": [
       "99"
      ]
     },
     "execution_count": 528,
     "metadata": {},
     "output_type": "execute_result"
    }
   ],
   "source": [
    "list(area_dict.keys())[list(area_dict.values()).index('Zambia')]\n"
   ]
  },
  {
   "cell_type": "code",
   "execution_count": 529,
   "id": "a50aab9d",
   "metadata": {
    "scrolled": false
   },
   "outputs": [
    {
     "data": {
      "text/plain": [
       "{0: 'Maize',\n",
       " 1: 'Potatoes',\n",
       " 2: 'Rice, paddy',\n",
       " 3: 'Sorghum',\n",
       " 4: 'Soybeans',\n",
       " 5: 'Wheat',\n",
       " 6: 'Cassava',\n",
       " 7: 'Sweet potatoes',\n",
       " 8: 'Plantains and others',\n",
       " 9: 'Yams'}"
      ]
     },
     "execution_count": 529,
     "metadata": {},
     "output_type": "execute_result"
    }
   ],
   "source": [
    "item_dict = creat_dic(data,\"Item\")\n",
    "item_dict"
   ]
  },
  {
   "cell_type": "code",
   "execution_count": 530,
   "id": "a9e43957",
   "metadata": {},
   "outputs": [
    {
     "data": {
      "text/plain": [
       "0"
      ]
     },
     "execution_count": 530,
     "metadata": {},
     "output_type": "execute_result"
    }
   ],
   "source": [
    "list(item_dict.keys())[list(item_dict.values()).index('Maize')]\n"
   ]
  },
  {
   "cell_type": "code",
   "execution_count": 531,
   "id": "5838fc06",
   "metadata": {},
   "outputs": [
    {
     "data": {
      "text/plain": [
       "[0, 1, 2, 3, 4, 5, 6]"
      ]
     },
     "execution_count": 531,
     "metadata": {},
     "output_type": "execute_result"
    }
   ],
   "source": [
    "key = []\n",
    "value = []\n",
    "\n",
    "for i,j in area_dict.items():\n",
    "    key.append(i)\n",
    "    value.append(j)\n",
    "\n",
    "key[:7]"
   ]
  },
  {
   "cell_type": "code",
   "execution_count": 532,
   "id": "77a0ec70",
   "metadata": {
    "scrolled": false
   },
   "outputs": [
    {
     "data": {
      "text/plain": [
       "['Thailand',\n",
       " 'Tunisia',\n",
       " 'Turkey',\n",
       " 'Uganda',\n",
       " 'Ukraine',\n",
       " 'United Kingdom',\n",
       " 'Uruguay',\n",
       " 'Zambia',\n",
       " 'Zimbabwe']"
      ]
     },
     "execution_count": 532,
     "metadata": {},
     "output_type": "execute_result"
    }
   ],
   "source": [
    "value[-9:]"
   ]
  },
  {
   "cell_type": "code",
   "execution_count": 533,
   "id": "54f21b68",
   "metadata": {
    "scrolled": false
   },
   "outputs": [
    {
     "data": {
      "text/plain": [
       "array([  0,   1,   2,   3,   4,   5,   6,   7,   8,   9,  10,  11,  12,\n",
       "        13,  14,  15,  16,  17,  18,  19,  20,  21,  22,  23,  24,  25,\n",
       "        26,  27,  28,  29,  30,  31,  32,  33,  34,  35,  36,  37,  38,\n",
       "        39,  40,  41,  42,  43,  44,  45,  46,  47,  48,  49,  50,  51,\n",
       "        52,  53,  54,  55,  56,  57,  58,  59,  60,  61,  62,  63,  64,\n",
       "        65,  66,  67,  68,  69,  70,  71,  72,  73,  74,  75,  76,  77,\n",
       "        78,  79,  80,  81,  82,  83,  84,  85,  86,  87,  88,  89,  90,\n",
       "        91,  92,  93,  94,  95,  96,  97,  98,  99, 100], dtype=int64)"
      ]
     },
     "execution_count": 533,
     "metadata": {},
     "output_type": "execute_result"
    }
   ],
   "source": [
    "# to replace string values with numbers\n",
    "data['Area'].replace(value,key,inplace=True)\n",
    "data['Area'].unique()\n"
   ]
  },
  {
   "cell_type": "code",
   "execution_count": 534,
   "id": "fc712daf",
   "metadata": {},
   "outputs": [
    {
     "data": {
      "text/plain": [
       "[0, 1, 2]"
      ]
     },
     "execution_count": 534,
     "metadata": {},
     "output_type": "execute_result"
    }
   ],
   "source": [
    "# as for Items \n",
    "keys = []\n",
    "values = []\n",
    "for i,j in item_dict.items():\n",
    "    keys.append(i)\n",
    "    values.append(j)\n",
    "\n",
    "keys[:3]"
   ]
  },
  {
   "cell_type": "code",
   "execution_count": 535,
   "id": "34b2d1a2",
   "metadata": {
    "scrolled": true
   },
   "outputs": [
    {
     "data": {
      "text/plain": [
       "['Maize', 'Potatoes', 'Rice, paddy', 'Sorghum', 'Soybeans']"
      ]
     },
     "execution_count": 535,
     "metadata": {},
     "output_type": "execute_result"
    }
   ],
   "source": [
    "values[:5]"
   ]
  },
  {
   "cell_type": "code",
   "execution_count": 536,
   "id": "e08dfc33",
   "metadata": {
    "scrolled": true
   },
   "outputs": [
    {
     "data": {
      "text/plain": [
       "array([0, 1, 2, 3, 4, 5, 6, 7, 8, 9], dtype=int64)"
      ]
     },
     "execution_count": 536,
     "metadata": {},
     "output_type": "execute_result"
    }
   ],
   "source": [
    "data[\"Item\"].replace(values,keys,inplace=True)\n",
    "data[\"Item\"].unique()"
   ]
  },
  {
   "cell_type": "code",
   "execution_count": 537,
   "id": "b9308501",
   "metadata": {
    "scrolled": true
   },
   "outputs": [
    {
     "name": "stdout",
     "output_type": "stream",
     "text": [
      "<class 'pandas.core.frame.DataFrame'>\n",
      "Int64Index: 25932 entries, 0 to 28241\n",
      "Data columns (total 7 columns):\n",
      " #   Column                         Non-Null Count  Dtype  \n",
      "---  ------                         --------------  -----  \n",
      " 0   Area                           25932 non-null  int64  \n",
      " 1   Item                           25932 non-null  int64  \n",
      " 2   Year                           25932 non-null  int64  \n",
      " 3   average_rain_fall_mm_per_year  25932 non-null  float64\n",
      " 4   pesticides_tonnes              25932 non-null  float64\n",
      " 5   avg_temp                       25932 non-null  float64\n",
      " 6   target_yield_hg/ha             25932 non-null  int64  \n",
      "dtypes: float64(3), int64(4)\n",
      "memory usage: 1.6 MB\n"
     ]
    }
   ],
   "source": [
    "data.info()"
   ]
  },
  {
   "cell_type": "code",
   "execution_count": 538,
   "id": "76c3fc16",
   "metadata": {
    "scrolled": false
   },
   "outputs": [
    {
     "data": {
      "text/plain": [
       "<AxesSubplot:>"
      ]
     },
     "execution_count": 538,
     "metadata": {},
     "output_type": "execute_result"
    },
    {
     "data": {
      "image/png": "[encoded data removed]",
      "text/plain": [
       "<Figure size 640x480 with 2 Axes>"
      ]
     },
     "metadata": {},
     "output_type": "display_data"
    }
   ],
   "source": [
    "# visualization \n",
    "sns.heatmap(data.corr(),annot=True)\n",
    "# there is no correlation between data featres"
   ]
  },
  {
   "cell_type": "code",
   "execution_count": 539,
   "id": "0b09999c",
   "metadata": {
    "scrolled": true
   },
   "outputs": [
    {
     "name": "stdout",
     "output_type": "stream",
     "text": [
      "****This is the Scaled Dataset by StandardScaler****\n"
     ]
    },
    {
     "data": {
      "text/html": [
       "<div>\n",
       "<style scoped>\n",
       "    .dataframe tbody tr th:only-of-type {\n",
       "        vertical-align: middle;\n",
       "    }\n",
       "\n",
       "    .dataframe tbody tr th {\n",
       "        vertical-align: top;\n",
       "    }\n",
       "\n",
       "    .dataframe thead th {\n",
       "        text-align: right;\n",
       "    }\n",
       "</style>\n",
       "<table border=\"1\" class=\"dataframe\">\n",
       "  <thead>\n",
       "    <tr style=\"text-align: right;\">\n",
       "      <th></th>\n",
       "      <th>Area</th>\n",
       "      <th>Item</th>\n",
       "      <th>Year</th>\n",
       "      <th>average_rain_fall_mm_per_year</th>\n",
       "      <th>pesticides_tonnes</th>\n",
       "      <th>avg_temp</th>\n",
       "      <th>target_yield_hg/ha</th>\n",
       "    </tr>\n",
       "  </thead>\n",
       "  <tbody>\n",
       "    <tr>\n",
       "      <th>0</th>\n",
       "      <td>-1.718146</td>\n",
       "      <td>-1.353440</td>\n",
       "      <td>-1.637869</td>\n",
       "      <td>0.471388</td>\n",
       "      <td>-0.605681</td>\n",
       "      <td>-0.629302</td>\n",
       "      <td>-0.476870</td>\n",
       "    </tr>\n",
       "    <tr>\n",
       "      <th>1</th>\n",
       "      <td>-1.718146</td>\n",
       "      <td>-0.958208</td>\n",
       "      <td>-1.637869</td>\n",
       "      <td>0.471388</td>\n",
       "      <td>-0.605681</td>\n",
       "      <td>-0.629302</td>\n",
       "      <td>-0.121815</td>\n",
       "    </tr>\n",
       "    <tr>\n",
       "      <th>2</th>\n",
       "      <td>-1.718146</td>\n",
       "      <td>-0.562976</td>\n",
       "      <td>-1.637869</td>\n",
       "      <td>0.471388</td>\n",
       "      <td>-0.605681</td>\n",
       "      <td>-0.629302</td>\n",
       "      <td>-0.633759</td>\n",
       "    </tr>\n",
       "    <tr>\n",
       "      <th>3</th>\n",
       "      <td>-1.718146</td>\n",
       "      <td>-0.167744</td>\n",
       "      <td>-1.637869</td>\n",
       "      <td>0.471388</td>\n",
       "      <td>-0.605681</td>\n",
       "      <td>-0.629302</td>\n",
       "      <td>-0.761739</td>\n",
       "    </tr>\n",
       "    <tr>\n",
       "      <th>4</th>\n",
       "      <td>-1.718146</td>\n",
       "      <td>0.227489</td>\n",
       "      <td>-1.637869</td>\n",
       "      <td>0.471388</td>\n",
       "      <td>-0.605681</td>\n",
       "      <td>-0.629302</td>\n",
       "      <td>-0.826715</td>\n",
       "    </tr>\n",
       "  </tbody>\n",
       "</table>\n",
       "</div>"
      ],
      "text/plain": [
       "       Area      Item      Year  average_rain_fall_mm_per_year  \\\n",
       "0 -1.718146 -1.353440 -1.637869                       0.471388   \n",
       "1 -1.718146 -0.958208 -1.637869                       0.471388   \n",
       "2 -1.718146 -0.562976 -1.637869                       0.471388   \n",
       "3 -1.718146 -0.167744 -1.637869                       0.471388   \n",
       "4 -1.718146  0.227489 -1.637869                       0.471388   \n",
       "\n",
       "   pesticides_tonnes  avg_temp  target_yield_hg/ha  \n",
       "0          -0.605681 -0.629302           -0.476870  \n",
       "1          -0.605681 -0.629302           -0.121815  \n",
       "2          -0.605681 -0.629302           -0.633759  \n",
       "3          -0.605681 -0.629302           -0.761739  \n",
       "4          -0.605681 -0.629302           -0.826715  "
      ]
     },
     "execution_count": 539,
     "metadata": {},
     "output_type": "execute_result"
    }
   ],
   "source": [
    "# data scaling\n",
    "\n",
    "from sklearn.preprocessing import StandardScaler\n",
    "scaler = StandardScaler()\n",
    "scaled_d = scaler.fit_transform(data.to_numpy())\n",
    "scaled_df = pd.DataFrame(scaled_d,columns=data.columns)\n",
    "print(\"****This is the Scaled Dataset by StandardScaler****\")\n",
    "scaled_df.head()\n",
    "\n",
    "\n"
   ]
  },
  {
   "cell_type": "code",
   "execution_count": 540,
   "id": "af15346e",
   "metadata": {
    "scrolled": true
   },
   "outputs": [
    {
     "data": {
      "text/html": [
       "<div>\n",
       "<style scoped>\n",
       "    .dataframe tbody tr th:only-of-type {\n",
       "        vertical-align: middle;\n",
       "    }\n",
       "\n",
       "    .dataframe tbody tr th {\n",
       "        vertical-align: top;\n",
       "    }\n",
       "\n",
       "    .dataframe thead th {\n",
       "        text-align: right;\n",
       "    }\n",
       "</style>\n",
       "<table border=\"1\" class=\"dataframe\">\n",
       "  <thead>\n",
       "    <tr style=\"text-align: right;\">\n",
       "      <th></th>\n",
       "      <th>Area</th>\n",
       "      <th>Item</th>\n",
       "      <th>Year</th>\n",
       "      <th>average_rain_fall_mm_per_year</th>\n",
       "      <th>pesticides_tonnes</th>\n",
       "      <th>avg_temp</th>\n",
       "      <th>target_yield_hg/ha</th>\n",
       "    </tr>\n",
       "  </thead>\n",
       "  <tbody>\n",
       "    <tr>\n",
       "      <th>0</th>\n",
       "      <td>0</td>\n",
       "      <td>0</td>\n",
       "      <td>1990</td>\n",
       "      <td>1485.0</td>\n",
       "      <td>121.0</td>\n",
       "      <td>16.37</td>\n",
       "      <td>36613</td>\n",
       "    </tr>\n",
       "    <tr>\n",
       "      <th>1</th>\n",
       "      <td>0</td>\n",
       "      <td>1</td>\n",
       "      <td>1990</td>\n",
       "      <td>1485.0</td>\n",
       "      <td>121.0</td>\n",
       "      <td>16.37</td>\n",
       "      <td>66667</td>\n",
       "    </tr>\n",
       "    <tr>\n",
       "      <th>2</th>\n",
       "      <td>0</td>\n",
       "      <td>2</td>\n",
       "      <td>1990</td>\n",
       "      <td>1485.0</td>\n",
       "      <td>121.0</td>\n",
       "      <td>16.37</td>\n",
       "      <td>23333</td>\n",
       "    </tr>\n",
       "    <tr>\n",
       "      <th>3</th>\n",
       "      <td>0</td>\n",
       "      <td>3</td>\n",
       "      <td>1990</td>\n",
       "      <td>1485.0</td>\n",
       "      <td>121.0</td>\n",
       "      <td>16.37</td>\n",
       "      <td>12500</td>\n",
       "    </tr>\n",
       "    <tr>\n",
       "      <th>4</th>\n",
       "      <td>0</td>\n",
       "      <td>4</td>\n",
       "      <td>1990</td>\n",
       "      <td>1485.0</td>\n",
       "      <td>121.0</td>\n",
       "      <td>16.37</td>\n",
       "      <td>7000</td>\n",
       "    </tr>\n",
       "  </tbody>\n",
       "</table>\n",
       "</div>"
      ],
      "text/plain": [
       "   Area  Item  Year  average_rain_fall_mm_per_year  pesticides_tonnes  \\\n",
       "0     0     0  1990                         1485.0              121.0   \n",
       "1     0     1  1990                         1485.0              121.0   \n",
       "2     0     2  1990                         1485.0              121.0   \n",
       "3     0     3  1990                         1485.0              121.0   \n",
       "4     0     4  1990                         1485.0              121.0   \n",
       "\n",
       "   avg_temp  target_yield_hg/ha  \n",
       "0     16.37               36613  \n",
       "1     16.37               66667  \n",
       "2     16.37               23333  \n",
       "3     16.37               12500  \n",
       "4     16.37                7000  "
      ]
     },
     "execution_count": 540,
     "metadata": {},
     "output_type": "execute_result"
    }
   ],
   "source": [
    "data.head()\n"
   ]
  },
  {
   "cell_type": "code",
   "execution_count": 541,
   "id": "25b20edc",
   "metadata": {},
   "outputs": [],
   "source": [
    "data.drop(['Year'],axis=1,inplace=True)\n"
   ]
  },
  {
   "cell_type": "code",
   "execution_count": 542,
   "id": "08cfaee5",
   "metadata": {},
   "outputs": [],
   "source": [
    "# data splitting\n",
    "from sklearn.model_selection import train_test_split\n",
    "xtrain,xtest,ytrain,ytest = train_test_split(data.drop(['target_yield_hg/ha'],axis=1),data['target_yield_hg/ha'],\n",
    "                                             test_size=0.3,random_state=42,shuffle=True)\n"
   ]
  },
  {
   "cell_type": "code",
   "execution_count": 543,
   "id": "57399a12",
   "metadata": {
    "scrolled": true
   },
   "outputs": [
    {
     "data": {
      "text/html": [
       "<div>\n",
       "<style scoped>\n",
       "    .dataframe tbody tr th:only-of-type {\n",
       "        vertical-align: middle;\n",
       "    }\n",
       "\n",
       "    .dataframe tbody tr th {\n",
       "        vertical-align: top;\n",
       "    }\n",
       "\n",
       "    .dataframe thead th {\n",
       "        text-align: right;\n",
       "    }\n",
       "</style>\n",
       "<table border=\"1\" class=\"dataframe\">\n",
       "  <thead>\n",
       "    <tr style=\"text-align: right;\">\n",
       "      <th></th>\n",
       "      <th>Area</th>\n",
       "      <th>Item</th>\n",
       "      <th>average_rain_fall_mm_per_year</th>\n",
       "      <th>pesticides_tonnes</th>\n",
       "      <th>avg_temp</th>\n",
       "    </tr>\n",
       "  </thead>\n",
       "  <tbody>\n",
       "    <tr>\n",
       "      <th>25241</th>\n",
       "      <td>85</td>\n",
       "      <td>0</td>\n",
       "      <td>636.0</td>\n",
       "      <td>31839.00</td>\n",
       "      <td>16.35</td>\n",
       "    </tr>\n",
       "    <tr>\n",
       "      <th>11043</th>\n",
       "      <td>42</td>\n",
       "      <td>6</td>\n",
       "      <td>1083.0</td>\n",
       "      <td>66388.00</td>\n",
       "      <td>26.07</td>\n",
       "    </tr>\n",
       "    <tr>\n",
       "      <th>6977</th>\n",
       "      <td>23</td>\n",
       "      <td>3</td>\n",
       "      <td>1113.0</td>\n",
       "      <td>2661.00</td>\n",
       "      <td>11.45</td>\n",
       "    </tr>\n",
       "    <tr>\n",
       "      <th>3693</th>\n",
       "      <td>14</td>\n",
       "      <td>4</td>\n",
       "      <td>1761.0</td>\n",
       "      <td>151523.00</td>\n",
       "      <td>19.73</td>\n",
       "    </tr>\n",
       "    <tr>\n",
       "      <th>15192</th>\n",
       "      <td>43</td>\n",
       "      <td>7</td>\n",
       "      <td>2702.0</td>\n",
       "      <td>1597.00</td>\n",
       "      <td>25.32</td>\n",
       "    </tr>\n",
       "    <tr>\n",
       "      <th>15487</th>\n",
       "      <td>44</td>\n",
       "      <td>0</td>\n",
       "      <td>216.0</td>\n",
       "      <td>508.00</td>\n",
       "      <td>20.85</td>\n",
       "    </tr>\n",
       "    <tr>\n",
       "      <th>10178</th>\n",
       "      <td>40</td>\n",
       "      <td>8</td>\n",
       "      <td>1976.0</td>\n",
       "      <td>9904.59</td>\n",
       "      <td>24.77</td>\n",
       "    </tr>\n",
       "  </tbody>\n",
       "</table>\n",
       "</div>"
      ],
      "text/plain": [
       "       Area  Item  average_rain_fall_mm_per_year  pesticides_tonnes  avg_temp\n",
       "25241    85     0                          636.0           31839.00     16.35\n",
       "11043    42     6                         1083.0           66388.00     26.07\n",
       "6977     23     3                         1113.0            2661.00     11.45\n",
       "3693     14     4                         1761.0          151523.00     19.73\n",
       "15192    43     7                         2702.0            1597.00     25.32\n",
       "15487    44     0                          216.0             508.00     20.85\n",
       "10178    40     8                         1976.0            9904.59     24.77"
      ]
     },
     "execution_count": 543,
     "metadata": {},
     "output_type": "execute_result"
    }
   ],
   "source": [
    "xtrain[:7]"
   ]
  },
  {
   "cell_type": "code",
   "execution_count": 544,
   "id": "5da25728",
   "metadata": {
    "scrolled": true
   },
   "outputs": [
    {
     "data": {
      "text/plain": [
       "25241     70170\n",
       "11043    230430\n",
       "6977      43025\n",
       "3693      27105\n",
       "15192    107743\n",
       "15487     19167\n",
       "10178    140017\n",
       "26020    241965\n",
       "13248      8803\n",
       "Name: target_yield_hg/ha, dtype: int64"
      ]
     },
     "execution_count": 544,
     "metadata": {},
     "output_type": "execute_result"
    }
   ],
   "source": [
    "ytrain[:9]"
   ]
  },
  {
   "cell_type": "code",
   "execution_count": 545,
   "id": "5a996cf3",
   "metadata": {},
   "outputs": [],
   "source": [
    "from sklearn.linear_model import LinearRegression\n",
    "from sklearn.tree import DecisionTreeRegressor\n",
    "from sklearn import svm\n",
    "from sklearn.ensemble import RandomForestRegressor\n",
    "from sklearn.ensemble import GradientBoostingRegressor\n",
    "from xgboost import XGBRegressor\n",
    "from sklearn.metrics import mean_squared_error,r2_score\n",
    "from sklearn.neighbors import KNeighborsRegressor\n",
    "from sklearn.model_selection import GridSearchCV\n",
    "k_range = list(range(1, 31))\n",
    "param_grid = dict(n_neighbors=k_range)\n",
    "\n",
    "\n",
    "def compare_models(model):\n",
    "    model_name = model.__class__.__name__\n",
    "    fit = model.fit(xtrain,ytrain)\n",
    "    ypredictions = fit.predict(xtest)\n",
    "    mse = mean_squared_error(ytest,ypredictions) # difference between actual and predicted value\n",
    "    r2 = r2_score(ytest,ypredictions)\n",
    "    #new_row ={'Model_Name':model_name,'MSE':mse,'R2_Score':r2}\n",
    "    #Models_perform = pd.DataFrame(columns=['Model_Name ','MSE ','R2_Score '])\n",
    "    #Models_perform = Models_perform.append(new_row,ignore_index=True)\n",
    "\n",
    "    return ([model_name,r2,mse])"
   ]
  },
  {
   "cell_type": "code",
   "execution_count": 546,
   "id": "7f527393",
   "metadata": {},
   "outputs": [],
   "source": [
    "models = [LinearRegression(),GradientBoostingRegressor(n_estimators=200, max_depth=3,random_state=0),\n",
    "          RandomForestRegressor(n_estimators=200,max_depth=3,random_state=0),XGBRegressor(max_depth = 3,n_estimators = 300 ),svm.SVR(),\n",
    "          DecisionTreeRegressor(),KNeighborsRegressor(n_neighbors=3)]\n",
    "#GridSearchCV(KNeighborsRegressor(n_neighbors=3),param_grid,scoring='neg_mean_squared_error', cv=10, n_jobs=-1)"
   ]
  },
  {
   "cell_type": "code",
   "execution_count": 547,
   "id": "e5d3e96c",
   "metadata": {
    "scrolled": true
   },
   "outputs": [],
   "source": [
    "train_model=list(map(compare_models,models))\n",
    "\n"
   ]
  },
  {
   "cell_type": "code",
   "execution_count": 548,
   "id": "87c51af2",
   "metadata": {
    "scrolled": true
   },
   "outputs": [
    {
     "name": "stdout",
     "output_type": "stream",
     "text": [
      "['LinearRegression', 0.022234488214806114, 7393211306.012049]\n",
      "['GradientBoostingRegressor', 0.8553953177077986, 1093404256.0706043]\n",
      "['RandomForestRegressor', 0.6715694082763364, 2483373298.305761]\n",
      "['XGBRegressor', 0.9180864968797374, 619375330.8787433]\n",
      "['SVR', -0.2030887594501838, 9096955569.912954]\n",
      "['DecisionTreeRegressor', 0.9552538940303712, 338340238.6024743]\n",
      "['KNeighborsRegressor', 0.37224809604899634, 4746641620.839617]\n"
     ]
    }
   ],
   "source": [
    "print(*train_model,sep=\"\\n\")"
   ]
  },
  {
   "cell_type": "code",
   "execution_count": 549,
   "id": "20877c54",
   "metadata": {
    "scrolled": true
   },
   "outputs": [
    {
     "data": {
      "text/plain": [
       "(25932, 6)"
      ]
     },
     "execution_count": 549,
     "metadata": {},
     "output_type": "execute_result"
    }
   ],
   "source": [
    "data.shape"
   ]
  },
  {
   "cell_type": "code",
   "execution_count": 550,
   "id": "98b23004",
   "metadata": {},
   "outputs": [
    {
     "name": "stdout",
     "output_type": "stream",
     "text": [
      "Mean MAE: 31632.509\n"
     ]
    }
   ],
   "source": [
    "from numpy import mean \n",
    "from numpy import absolute \n",
    "from numpy import loadtxt\n",
    "from sklearn.model_selection import cross_val_score\n",
    "from sklearn.model_selection import KFold\n",
    "from sklearn.pipeline import make_pipeline\n",
    "from sklearn.tree import DecisionTreeRegressor\n",
    "from sklearn.preprocessing import PolynomialFeatures,MinMaxScaler\n",
    "from sklearn.compose import TransformedTargetRegressor\n",
    "#prepare the model with input scaling\n",
    "pipline = make_pipeline(PolynomialFeatures(6),MinMaxScaler(),DecisionTreeRegressor())\n",
    "model = TransformedTargetRegressor(regressor=pipeline,transformer=MinMaxScaler())\n",
    "model.fit(xtrain,ytrain)\n",
    "#Evaluate the model\n",
    "cv = KFold(n_splits=10,shuffle=True,random_state=1)\n",
    "scores = cross_val_score(model,xtest,ytest,scoring='neg_mean_absolute_error',cv=cv,n_jobs=-1)\n",
    "# conver scores to positive\n",
    "scores = absolute(scores)\n",
    "s_mean = mean(scores)\n",
    "print('Mean MAE: %.3f'%(s_mean))"
   ]
  },
  {
   "cell_type": "code",
   "execution_count": 551,
   "id": "8e1232d8",
   "metadata": {},
   "outputs": [
    {
     "data": {
      "text/plain": [
       "['finalmodel.pkl']"
      ]
     },
     "execution_count": 551,
     "metadata": {},
     "output_type": "execute_result"
    }
   ],
   "source": [
    "import joblib\n",
    "filename = 'finalmodel.pkl'\n",
    "joblib.dump(model,filename)\n",
    "\n"
   ]
  },
  {
   "cell_type": "code",
   "execution_count": 552,
   "id": "6b667ce5",
   "metadata": {},
   "outputs": [
    {
     "data": {
      "text/plain": [
       "0"
      ]
     },
     "execution_count": 552,
     "metadata": {},
     "output_type": "execute_result"
    }
   ],
   "source": [
    "list(area_dict.keys())[list(area_dict.values()).index('Egypt')]\n",
    "list(item_dict.keys())[list(item_dict.values()).index('Maize')]\n"
   ]
  },
  {
   "cell_type": "code",
   "execution_count": 555,
   "id": "aa74401c",
   "metadata": {
    "scrolled": false
   },
   "outputs": [
    {
     "name": "stdout",
     "output_type": "stream",
     "text": [
      "Enter a country name: Albania\n",
      "Enter a crop name: Sorghum\n",
      "Enter a the annual rainfall: 121\n",
      "Enter a the total pesticide: 121\n",
      "Enter a the  average temperature : 32\n"
     ]
    }
   ],
   "source": [
    "area =(input(\"Enter a country name: \"))\n",
    "area = list(area_dict.keys())[list(area_dict.values()).index(area)]\n",
    "item = (input(\"Enter a crop name: \"))\n",
    "item = list(item_dict.keys())[list(item_dict.values()).index(item)]\n",
    "rainfall = float(input(\"Enter a the annual rainfall: \"))\n",
    "pesticides = float(input(\"Enter a the total pesticide: \"))\n",
    "avtemp= float(input(\"Enter a the  average temperature : \"))\n"
   ]
  },
  {
   "cell_type": "code",
   "execution_count": 556,
   "id": "d09d8640",
   "metadata": {
    "scrolled": false
   },
   "outputs": [
    {
     "name": "stderr",
     "output_type": "stream",
     "text": [
      "C:\\Users\\shams\\anaconda3\\lib\\site-packages\\sklearn\\base.py:450: UserWarning: X does not have valid feature names, but PolynomialFeatures was fitted with feature names\n",
      "  warnings.warn(\n"
     ]
    },
    {
     "data": {
      "text/plain": [
       "'The Sorghum crop yield will be 513843 in Albania with avg temprature 32, average rainfall 121.0 and the total pesicides 121.0 Tons'"
      ]
     },
     "execution_count": 556,
     "metadata": {},
     "output_type": "execute_result"
    }
   ],
   "source": [
    "load_model = joblib.load(filename)\n",
    "output = load_model.predict([[area,item,rainfall,pesticides,avtemp]])\n",
    "res = \"The \"+item_dict[item]+\" crop yield will be \"+str(round(output[0]))+\" in \"+area_dict[area]+\" with avg temprature \"+str(temp)+\", average rainfall \"+str(rainfall) + \" and the total pesicides \"+str(pesticides)+\" Tons\"\n",
    "res"
   ]
  },
  {
   "cell_type": "code",
   "execution_count": null,
   "id": "d872cd49",
   "metadata": {
    "scrolled": true
   },
   "outputs": [],
   "source": []
  },
  {
   "cell_type": "code",
   "execution_count": null,
   "id": "b06419f3",
   "metadata": {},
   "outputs": [],
   "source": []
  }
 ],
 "metadata": {
  "kernelspec": {
   "display_name": "Python 3 (ipykernel)",
   "language": "python",
   "name": "python3"
  },
  "language_info": {
   "codemirror_mode": {
    "name": "ipython",
    "version": 3
   },
   "file_extension": ".py",
   "mimetype": "text/x-python",
   "name": "python",
   "nbconvert_exporter": "python",
   "pygments_lexer": "ipython3",
   "version": "3.10.2"
  }
 },
 "nbformat": 4,
 "nbformat_minor": 5
}
